{
 "cells": [
  {
   "cell_type": "code",
   "execution_count": null,
   "id": "e575864b",
   "metadata": {},
   "outputs": [],
   "source": [
    "from models import load_model_and_tokenizer\n",
    "from evaluation import ModelEvaluator\n",
    "from data import get_gsm8k_dataset\n",
    "\n",
    "# Load model and tokenizer\n",
    "model, tokenizer = load_model_and_tokenizer(\"/data/jupyter_folder/gsm8k-grpo/outputs/grpo-model\")\n",
    "\n",
    "# Create evaluator\n",
    "evaluator = ModelEvaluator(\n",
    "    model=model,\n",
    "    tokenizer=tokenizer,\n",
    "    system_prompt=\"You are a helpful math assistant. Solve the problem step-by-step and give your final numerical answer between <answer></answer> tags.\"\n",
    ")\n",
    "\n",
    "# Load evaluation dataset\n",
    "eval_dataset = get_gsm8k_dataset(split=\"test\", max_samples=100)\n",
    "\n",
    "# Run evaluation\n",
    "results = evaluator.evaluate_dataset(eval_dataset)\n",
    "print(f\"Accuracy: {results['accuracy']:.2%}\")"
   ]
  }
 ],
 "metadata": {
  "kernelspec": {
   "display_name": "grpo",
   "language": "python",
   "name": "python3"
  },
  "language_info": {
   "codemirror_mode": {
    "name": "ipython",
    "version": 3
   },
   "file_extension": ".py",
   "mimetype": "text/x-python",
   "name": "python",
   "nbconvert_exporter": "python",
   "pygments_lexer": "ipython3",
   "version": "3.10.16"
  }
 },
 "nbformat": 4,
 "nbformat_minor": 5
}
